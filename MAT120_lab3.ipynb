{
  "nbformat": 4,
  "nbformat_minor": 0,
  "metadata": {
    "colab": {
      "provenance": [],
      "authorship_tag": "ABX9TyNmaDkEe8rywjsPDEoRUW/z",
      "include_colab_link": true
    },
    "kernelspec": {
      "name": "python3",
      "display_name": "Python 3"
    },
    "language_info": {
      "name": "python"
    }
  },
  "cells": [
    {
      "cell_type": "markdown",
      "metadata": {
        "id": "view-in-github",
        "colab_type": "text"
      },
      "source": [
        "<a href=\"https://colab.research.google.com/github/Ahtesham-Ibne-Mostafa/Integration-in-Calculus/blob/main/MAT120_lab3.ipynb\" target=\"_parent\"><img src=\"https://colab.research.google.com/assets/colab-badge.svg\" alt=\"Open In Colab\"/></a>"
      ]
    },
    {
      "cell_type": "code",
      "execution_count": null,
      "metadata": {
        "id": "UuMY5K5i-sDY"
      },
      "outputs": [],
      "source": [
        "# import library\n",
        "\n",
        "from numpy import*     # numarical python (array, matrix, linear algebra, fourier, functions)\n",
        "from sympy import*     # symbolic python ( Calculas , sin , cos , log , ln)"
      ]
    },
    {
      "cell_type": "code",
      "source": [
        "# Make a symbol\n",
        "\n",
        "x=symbols('x')"
      ],
      "metadata": {
        "id": "szllPCK__Fwl"
      },
      "execution_count": null,
      "outputs": []
    },
    {
      "cell_type": "code",
      "source": [
        "# Write symbolic expression from sympy import*\n",
        "\n",
        "f= sin(x)"
      ],
      "metadata": {
        "id": "Iw_w09Zk_JD1"
      },
      "execution_count": null,
      "outputs": []
    },
    {
      "cell_type": "code",
      "source": [
        "# Taking derivatives\n",
        "\n",
        "df = diff(f,x)\n",
        "\n",
        "df2= diff(f,x,2)"
      ],
      "metadata": {
        "id": "OXi7i2sp_Nwu"
      },
      "execution_count": null,
      "outputs": []
    },
    {
      "cell_type": "code",
      "source": [
        "# Printing \n",
        "\n",
        "print(df)\n",
        "\n",
        "print(df2)"
      ],
      "metadata": {
        "colab": {
          "base_uri": "https://localhost:8080/"
        },
        "id": "yh1zn5uD_P-D",
        "outputId": "5b53c3d6-9710-47d7-b65e-7edefe046723"
      },
      "execution_count": null,
      "outputs": [
        {
          "output_type": "stream",
          "name": "stdout",
          "text": [
            "cos(x)\n",
            "-sin(x)\n"
          ]
        }
      ]
    },
    {
      "cell_type": "code",
      "source": [
        "# Interval \n",
        "\n",
        "test_numbers = arange(-10,10)\n",
        "a=df(test_numbers)\n",
        "\n",
        "\n",
        "print(test_numbers)\n",
        "print(a)"
      ],
      "metadata": {
        "colab": {
          "base_uri": "https://localhost:8080/",
          "height": 235
        },
        "id": "BRJShxqZ_RrB",
        "outputId": "a1ace5bd-8751-4ae7-e01d-e9cf5f2c5a35"
      },
      "execution_count": null,
      "outputs": [
        {
          "output_type": "error",
          "ename": "TypeError",
          "evalue": "ignored",
          "traceback": [
            "\u001b[0;31m---------------------------------------------------------------------------\u001b[0m",
            "\u001b[0;31mTypeError\u001b[0m                                 Traceback (most recent call last)",
            "\u001b[0;32m<ipython-input-6-bdcded1a728a>\u001b[0m in \u001b[0;36m<module>\u001b[0;34m\u001b[0m\n\u001b[1;32m      2\u001b[0m \u001b[0;34m\u001b[0m\u001b[0m\n\u001b[1;32m      3\u001b[0m \u001b[0mtest_numbers\u001b[0m \u001b[0;34m=\u001b[0m \u001b[0marange\u001b[0m\u001b[0;34m(\u001b[0m\u001b[0;34m-\u001b[0m\u001b[0;36m10\u001b[0m\u001b[0;34m,\u001b[0m\u001b[0;36m10\u001b[0m\u001b[0;34m)\u001b[0m\u001b[0;34m\u001b[0m\u001b[0;34m\u001b[0m\u001b[0m\n\u001b[0;32m----> 4\u001b[0;31m \u001b[0ma\u001b[0m\u001b[0;34m=\u001b[0m\u001b[0mdf\u001b[0m\u001b[0;34m(\u001b[0m\u001b[0mtest_numbers\u001b[0m\u001b[0;34m)\u001b[0m\u001b[0;34m\u001b[0m\u001b[0;34m\u001b[0m\u001b[0m\n\u001b[0m\u001b[1;32m      5\u001b[0m \u001b[0;34m\u001b[0m\u001b[0m\n\u001b[1;32m      6\u001b[0m \u001b[0;34m\u001b[0m\u001b[0m\n",
            "\u001b[0;31mTypeError\u001b[0m: 'cos' object is not callable"
          ]
        }
      ]
    },
    {
      "cell_type": "code",
      "source": [
        "# Graphing\n",
        "\n",
        "import matplotlib.pyplot as plt\n",
        "\n",
        "x=.linspace(-10,10)\n",
        "y=.f\n",
        "\n",
        "plt.plot(x, y)\n",
        "\n",
        "plt.xlabel('x - axis')\n",
        "\n",
        "plt.ylabel('y - axis')\n",
        "\n",
        "plt.title ('Shape of the Function')\n",
        "\n",
        "plt.show"
      ],
      "metadata": {
        "colab": {
          "base_uri": "https://localhost:8080/",
          "height": 235
        },
        "id": "FSiF5Y57_bhx",
        "outputId": "f34d686b-db6d-44ff-cf9b-d8b1eb1c75d8"
      },
      "execution_count": null,
      "outputs": [
        {
          "output_type": "error",
          "ename": "NameError",
          "evalue": "ignored",
          "traceback": [
            "\u001b[0;31m---------------------------------------------------------------------------\u001b[0m",
            "\u001b[0;31mNameError\u001b[0m                                 Traceback (most recent call last)",
            "\u001b[0;32m<ipython-input-10-ddd3d7032870>\u001b[0m in \u001b[0;36m<module>\u001b[0;34m\u001b[0m\n\u001b[1;32m      3\u001b[0m \u001b[0;32mimport\u001b[0m \u001b[0mmatplotlib\u001b[0m\u001b[0;34m.\u001b[0m\u001b[0mpyplot\u001b[0m \u001b[0;32mas\u001b[0m \u001b[0mplt\u001b[0m\u001b[0;34m\u001b[0m\u001b[0;34m\u001b[0m\u001b[0m\n\u001b[1;32m      4\u001b[0m \u001b[0;34m\u001b[0m\u001b[0m\n\u001b[0;32m----> 5\u001b[0;31m \u001b[0mx\u001b[0m\u001b[0;34m=\u001b[0m\u001b[0mnumpy\u001b[0m\u001b[0;34m.\u001b[0m\u001b[0mlinspace\u001b[0m\u001b[0;34m(\u001b[0m\u001b[0;34m-\u001b[0m\u001b[0;36m10\u001b[0m\u001b[0;34m,\u001b[0m\u001b[0;36m10\u001b[0m\u001b[0;34m)\u001b[0m\u001b[0;34m\u001b[0m\u001b[0;34m\u001b[0m\u001b[0m\n\u001b[0m\u001b[1;32m      6\u001b[0m \u001b[0my\u001b[0m\u001b[0;34m=\u001b[0m\u001b[0mnumpy\u001b[0m\u001b[0;34m.\u001b[0m\u001b[0mf\u001b[0m\u001b[0;34m\u001b[0m\u001b[0;34m\u001b[0m\u001b[0m\n\u001b[1;32m      7\u001b[0m \u001b[0;34m\u001b[0m\u001b[0m\n",
            "\u001b[0;31mNameError\u001b[0m: name 'numpy' is not defined"
          ]
        }
      ]
    },
    {
      "cell_type": "code",
      "source": [
        "# Finding minimum and maximum \n",
        "\n",
        "x=symbols('x')\n",
        "\n",
        "plot (( x**5 - 30*x**3 + 50*x), (x, -5, 5))\n",
        "\n",
        "f= x**5 - 30*x**3 + 50*x\n",
        "\n",
        "df = diff(f,x)\n",
        "\n",
        "critical_points = solve(df)\n",
        "\n",
        "critical_points \n",
        "\n",
        "A= critical_points[0]\n",
        "B= critical_points[1]\n",
        "C= critical_points[2]\n",
        "D= critical_points[3]\n",
        "\n",
        "df2= diff(f,x,2)\n",
        "\n",
        "df2\n",
        "\n",
        "print(df2.subs({x:A}).evalf())\n",
        "print(df2.subs({x:B}).evalf())\n",
        "print(df2.subs({x:C}).evalf())\n",
        "print(df2.subs({x:D}).evalf())\n",
        "\n",
        "x_min = -5\n",
        "x_max = 5\n",
        "\n",
        "print(f.subs({x:B}).evalf() )\n",
        "print(f.subs({x:C}).evalf() )\n",
        "\n",
        "print(f.subs({x:x_min}).evalf() )\n",
        "print(f.subs({x:x_max}).evalf() )"
      ],
      "metadata": {
        "id": "Bip2L4X0_429",
        "colab": {
          "base_uri": "https://localhost:8080/",
          "height": 436
        },
        "outputId": "c7da6b94-3315-435c-82d5-2c8b9149bab0"
      },
      "execution_count": null,
      "outputs": [
        {
          "output_type": "display_data",
          "data": {
            "text/plain": [
              "<Figure size 432x288 with 1 Axes>"
            ],
            "image/png": "[encoded data removed]"
          },
          "metadata": {
            "needs_background": "light"
          }
        },
        {
          "output_type": "stream",
          "name": "stdout",
          "text": [
            "127.661060789073\n",
            "-127.661060789073\n",
            "-703.493179468151\n",
            "703.493179468151\n",
            "25.0846626340294\n",
            "705.959460380365\n",
            "375.000000000000\n",
            "-375.000000000000\n"
          ]
        }
      ]
    },
    {
      "cell_type": "code",
      "source": [],
      "metadata": {
        "id": "TFJkxWEyD1Yr"
      },
      "execution_count": null,
      "outputs": []
    }
  ]
}