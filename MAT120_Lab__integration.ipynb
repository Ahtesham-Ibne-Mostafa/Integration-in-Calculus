{
  "nbformat": 4,
  "nbformat_minor": 0,
  "metadata": {
    "colab": {
      "provenance": [],
      "authorship_tag": "ABX9TyP/HxNMRh+LkIbTfEMfiKcv",
      "include_colab_link": true
    },
    "kernelspec": {
      "name": "python3",
      "display_name": "Python 3"
    },
    "language_info": {
      "name": "python"
    }
  },
  "cells": [
    {
      "cell_type": "markdown",
      "metadata": {
        "id": "view-in-github",
        "colab_type": "text"
      },
      "source": [
        "<a href=\"https://colab.research.google.com/github/Ahtesham-Ibne-Mostafa/Integration-in-Calculus/blob/main/MAT120_Lab__integration.ipynb\" target=\"_parent\"><img src=\"https://colab.research.google.com/assets/colab-badge.svg\" alt=\"Open In Colab\"/></a>"
      ]
    },
    {
      "cell_type": "markdown",
      "source": [
        "//Indifinite integration"
      ],
      "metadata": {
        "id": "Aeb5E9lSG4gB"
      }
    },
    {
      "cell_type": "code",
      "execution_count": 1,
      "metadata": {
        "id": "M9haJWGBBXic"
      },
      "outputs": [],
      "source": [
        "from sympy import *"
      ]
    },
    {
      "cell_type": "code",
      "source": [
        "x=symbols('x')\n",
        "\n",
        "f=exp(-x)*(x**2)*cos(x)\n",
        "\n",
        "integrate(f,x)\n",
        "\n",
        "#integrate(f,x).simplify()"
      ],
      "metadata": {
        "colab": {
          "base_uri": "https://localhost:8080/",
          "height": 54
        },
        "id": "ubRIH9LyBkNy",
        "outputId": "2f0e87e7-7926-44e0-ccd5-d1cca55b507b"
      },
      "execution_count": 2,
      "outputs": [
        {
          "output_type": "execute_result",
          "data": {
            "text/plain": [
              "x**2*exp(-x)*sin(x)/2 - x**2*exp(-x)*cos(x)/2 + x*exp(-x)*sin(x) + exp(-x)*sin(x)/2 + exp(-x)*cos(x)/2"
            ],
            "text/latex": "$\\displaystyle \\frac{x^{2} e^{- x} \\sin{\\left(x \\right)}}{2} - \\frac{x^{2} e^{- x} \\cos{\\left(x \\right)}}{2} + x e^{- x} \\sin{\\left(x \\right)} + \\frac{e^{- x} \\sin{\\left(x \\right)}}{2} + \\frac{e^{- x} \\cos{\\left(x \\right)}}{2}$"
          },
          "metadata": {},
          "execution_count": 2
        }
      ]
    },
    {
      "cell_type": "code",
      "source": [
        "f=(sin(x)**3)*exp(-5*x)\n",
        "\n",
        "integrate(f,x)\n",
        "\n",
        "#integrate(f,x).simplify()"
      ],
      "metadata": {
        "colab": {
          "base_uri": "https://localhost:8080/",
          "height": 55
        },
        "id": "twYsVQ3MCURz",
        "outputId": "62fb314a-5ae5-4422-ac4e-0a671d477fdb"
      },
      "execution_count": 3,
      "outputs": [
        {
          "output_type": "execute_result",
          "data": {
            "text/plain": [
              "-40*exp(-5*x)*sin(x)**3/221 - 21*exp(-5*x)*sin(x)**2*cos(x)/221 - 15*exp(-5*x)*sin(x)*cos(x)**2/442 - 3*exp(-5*x)*cos(x)**3/442"
            ],
            "text/latex": "$\\displaystyle - \\frac{40 e^{- 5 x} \\sin^{3}{\\left(x \\right)}}{221} - \\frac{21 e^{- 5 x} \\sin^{2}{\\left(x \\right)} \\cos{\\left(x \\right)}}{221} - \\frac{15 e^{- 5 x} \\sin{\\left(x \\right)} \\cos^{2}{\\left(x \\right)}}{442} - \\frac{3 e^{- 5 x} \\cos^{3}{\\left(x \\right)}}{442}$"
          },
          "metadata": {},
          "execution_count": 3
        }
      ]
    },
    {
      "cell_type": "code",
      "source": [
        "f=(1+sqrt(x))**Rational(1,3)/(sqrt(x))\n",
        "\n",
        "integrate(f,x).simplify()"
      ],
      "metadata": {
        "colab": {
          "base_uri": "https://localhost:8080/",
          "height": 59
        },
        "id": "uw7VBmLqCxF0",
        "outputId": "d64f2d46-98a7-407d-c2a0-611df2ea55a5"
      },
      "execution_count": 7,
      "outputs": [
        {
          "output_type": "execute_result",
          "data": {
            "text/plain": [
              "3*(sqrt(x) + 1)**(4/3)/2"
            ],
            "text/latex": "$\\displaystyle \\frac{3 \\left(\\sqrt{x} + 1\\right)^{\\frac{4}{3}}}{2}$"
          },
          "metadata": {},
          "execution_count": 7
        }
      ]
    },
    {
      "cell_type": "markdown",
      "source": [
        "//DIfinite integration"
      ],
      "metadata": {
        "id": "AK7Mqtw0HFG5"
      }
    },
    {
      "cell_type": "code",
      "source": [
        "f=exp(x)/sqrt(exp(x)+9)\n",
        "\n",
        "integrate(f,(x,0,log(4))).evalf()"
      ],
      "metadata": {
        "colab": {
          "base_uri": "https://localhost:8080/",
          "height": 37
        },
        "id": "UVb7o3JKC9v7",
        "outputId": "04580bc3-5487-4688-b7f2-b5eba3582be8"
      },
      "execution_count": 11,
      "outputs": [
        {
          "output_type": "execute_result",
          "data": {
            "text/plain": [
              "0.886547230591220"
            ],
            "text/latex": "$\\displaystyle 0.88654723059122$"
          },
          "metadata": {},
          "execution_count": 11
        }
      ]
    },
    {
      "cell_type": "code",
      "source": [],
      "metadata": {
        "id": "VBa7EAFHGsWJ"
      },
      "execution_count": null,
      "outputs": []
    }
  ]
}